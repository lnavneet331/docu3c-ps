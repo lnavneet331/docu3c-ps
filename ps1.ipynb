{
 "cells": [
  {
   "attachments": {},
   "cell_type": "markdown",
   "metadata": {},
   "source": [
    "<h2>Problem Statement # 1 :  Getting ready to appear for a Trial</h2>"
   ]
  },
  {
   "cell_type": "code",
   "execution_count": 41,
   "metadata": {},
   "outputs": [],
   "source": [
    "%%capture\n",
    "!pip install PyPDF2\n",
    "!pip install openai\n",
    "!pip install nltk\n",
    "!pip install python-dotenv"
   ]
  },
  {
   "cell_type": "code",
   "execution_count": 42,
   "metadata": {},
   "outputs": [],
   "source": [
    "import platform\n",
    "import os\n",
    "import openai\n",
    "import os\n",
    "import re\n",
    "import PyPDF2"
   ]
  },
  {
   "cell_type": "code",
   "execution_count": 43,
   "metadata": {},
   "outputs": [],
   "source": [
    "#load api key from .env\n",
    "from dotenv import load_dotenv\n",
    "load_dotenv()\n",
    "openai.api_key=os.getenv(\"OPENAI_API_KEY\")"
   ]
  },
  {
   "cell_type": "code",
   "execution_count": 44,
   "metadata": {},
   "outputs": [
    {
     "name": "stdout",
     "output_type": "stream",
     "text": [
      "Python:  3.9.0\n",
      "re:  2.2.1\n",
      "nltk:  3.8.1\n"
     ]
    },
    {
     "name": "stderr",
     "output_type": "stream",
     "text": [
      "[nltk_data] Downloading package punkt to\n",
      "[nltk_data]     C:\\Users\\lnavn\\AppData\\Roaming\\nltk_data...\n",
      "[nltk_data]   Package punkt is already up-to-date!\n"
     ]
    }
   ],
   "source": [
    "import nltk\n",
    "nltk.download('punkt')\n",
    "from nltk.tokenize import word_tokenize\n",
    "\n",
    "print('Python: ', platform.python_version())\n",
    "print('re: ', re.__version__)\n",
    "print('nltk: ', nltk.__version__)"
   ]
  },
  {
   "cell_type": "code",
   "execution_count": 45,
   "metadata": {},
   "outputs": [],
   "source": [
    "# Read the PDF document\n",
    "def read_pdf(file_path):\n",
    "    with open(file_path, 'rb') as file:\n",
    "        reader = PyPDF2.PdfReader(file)\n",
    "        text = ''\n",
    "        for page in reader.pages:\n",
    "            text += page.extract_text()\n",
    "        return text"
   ]
  },
  {
   "cell_type": "code",
   "execution_count": 46,
   "metadata": {},
   "outputs": [],
   "source": [
    "def count_tokens(text):\n",
    "    tokens = word_tokenize(text)\n",
    "    return len(tokens)"
   ]
  },
  {
   "cell_type": "code",
   "execution_count": 47,
   "metadata": {},
   "outputs": [
    {
     "name": "stdout",
     "output_type": "stream",
     "text": [
      "Number of tokens: 7500\n"
     ]
    }
   ],
   "source": [
    "text = read_pdf(\"ps1.pdf\")\n",
    "token_count = count_tokens(text)\n",
    "print(f\"Number of tokens: {token_count}\")"
   ]
  },
  {
   "cell_type": "code",
   "execution_count": 48,
   "metadata": {},
   "outputs": [],
   "source": [
    "def break_up_file(tokens, chunk_size, overlap_size):\n",
    "    if len(tokens) <= chunk_size:\n",
    "        yield tokens\n",
    "    else:\n",
    "        chunk = tokens[:chunk_size]\n",
    "        yield chunk\n",
    "        yield from break_up_file(tokens[chunk_size-overlap_size:], chunk_size, overlap_size)\n",
    "\n",
    "def break_up_file_to_chunks(text, chunk_size=2000, overlap_size=100):\n",
    "    tokens = word_tokenize(text)\n",
    "    return list(break_up_file(tokens, chunk_size, overlap_size))"
   ]
  },
  {
   "cell_type": "code",
   "execution_count": 49,
   "metadata": {},
   "outputs": [
    {
     "name": "stdout",
     "output_type": "stream",
     "text": [
      "Chunk 0: 2000 tokens\n",
      "Chunk 1: 2000 tokens\n",
      "Chunk 2: 2000 tokens\n",
      "Chunk 3: 1800 tokens\n"
     ]
    }
   ],
   "source": [
    "chunks = break_up_file_to_chunks(text)\n",
    "for i, chunk in enumerate(chunks):\n",
    "    print(f\"Chunk {i}: {len(chunk)} tokens\")"
   ]
  },
  {
   "cell_type": "code",
   "execution_count": 50,
   "metadata": {},
   "outputs": [],
   "source": [
    "def convert_to_detokenized_text(tokenized_text):\n",
    "    prompt_text = \" \".join(tokenized_text)\n",
    "    prompt_text = prompt_text.replace(\" 's\", \"'s\")\n",
    "    return prompt_text"
   ]
  },
  {
   "cell_type": "code",
   "execution_count": 51,
   "metadata": {},
   "outputs": [],
   "source": [
    "prompt_response = []\n",
    "chunks = break_up_file_to_chunks(text)"
   ]
  },
  {
   "cell_type": "code",
   "execution_count": 53,
   "metadata": {},
   "outputs": [],
   "source": [
    "for i, chunk in enumerate(chunks):\n",
    "    prompt_request = \"Please generate a concise summary for the following text with references to their corresponding page and line numbers:\\n\" + convert_to_detokenized_text(chunks[i])\n",
    "    response = openai.Completion.create(\n",
    "            model=\"text-davinci-003\",\n",
    "            prompt=prompt_request,\n",
    "            temperature=.5,\n",
    "            max_tokens=500,\n",
    "            top_p=1,\n",
    "            frequency_penalty=0,\n",
    "            presence_penalty=0\n",
    "    )\n",
    "    \n",
    "    prompt_response.append(response[\"choices\"][0][\"text\"].strip())"
   ]
  },
  {
   "cell_type": "code",
   "execution_count": 54,
   "metadata": {},
   "outputs": [],
   "source": [
    "prompt_request = \"Give the 10 most important items pertaining this trial along with their corresponding page and line numbers: \" + str(prompt_response)"
   ]
  },
  {
   "cell_type": "code",
   "execution_count": 55,
   "metadata": {},
   "outputs": [],
   "source": [
    "response = openai.Completion.create(\n",
    "        model=\"text-davinci-003\",\n",
    "        prompt=prompt_request,\n",
    "        temperature=.5,\n",
    "        max_tokens=1000,\n",
    "        top_p=1,\n",
    "        frequency_penalty=0,\n",
    "        presence_penalty=0\n",
    "    )"
   ]
  },
  {
   "cell_type": "code",
   "execution_count": 56,
   "metadata": {},
   "outputs": [
    {
     "name": "stdout",
     "output_type": "stream",
     "text": [
      "1.\n",
      "The FDA’s approval of mifepristone for mail-order distribution defies its own regulatory authority and longstanding federal criminal law, as well as the authority of states to protect the health, safety, and welfare of their citizens by regulating abortion.\n",
      "(Page 15, Lines 1-17; Page 16, Lines 1-14; Page 17, Lines 1-14; Page 18, Lines 1-14; Page 19, Lines 1-2)\n",
      "\n",
      "2.\n",
      "The authority to regulate or prohibit abortion belongs to the citizens of each state and the FDA has no authority to make broad policy judgments balancing the people's interests in prenatal life, maternal health and safety, and the integrity of the medical profession (Dobbs, 142 S. Ct. at 2284).\n",
      "(Page 19, Line 3)\n",
      "\n",
      "3.\n",
      "The FDA’s actions harm the public interest by undermining States’ ability to protect their citizens and by forcing States to divert scarce resources to investigating and prosecuting violations of their laws.\n",
      "(Page 9, Lines 4-5)\n",
      "\n",
      "4.\n",
      "The FDA may approve drugs for interstate sale and distribution only after determining that the drugs are “safe and effective for use under the conditions prescribed, recommended, or suggested in the labeling thereof.” (21 U.S.C.\n",
      "§ 355(d)) (Page 9, Lines 6-7)\n",
      "\n",
      "5.\n",
      "The FDA’s approval of mifepristone included REMS requirements, which the FDA deemed necessary to ensure that the drug’s benefits outweighed the risks.\n",
      "(21 C.F.R.\n",
      "§§ 314.500- 314.560) (Page 10, Lines 1-2)\n",
      "\n",
      "6.\n",
      "The Federal Food, Drug, and Cosmetic Act prohibits the “introduction or delivery for introduction into interstate commerce” of any “new drug” without FDA approval.\n",
      "(21 U.S.C.\n",
      "§ 355 (a)) (Page 12, Lines 1-2)\n",
      "\n",
      "7.\n",
      "The Act also prohibits the “mailing of any [drug] in interstate commerce” that is “intended for use in the cure, mitigation, treatment, or prevention of disease in man or animals.” (Id.\n",
      "§ 331 (d)) (Page 12, Lines 3-5)\n",
      "\n",
      "8.\n",
      "The FDA has not sought to exempt mifepristone from the mailing prohibition.\n",
      "It has instead effectively ignored it.\n",
      "(Page 13, Lines 1-2)\n",
      "\n",
      "9.\n",
      "The public interest is served when federal agencies respect the proper exercise of state authority.\n",
      "(Texas v. United States, 809 F.3d 134, 165) (Page 15, Lines 1-2)\n",
      "\n",
      "10.\n",
      "The FDA was not responding to changed circumstances on the safety of mifepristone when it cast aside the longstanding requirements for in-person dispensing, but rather acting at the behest of the Biden Administration and its allies who demanded political action.\n",
      "(Page 18, Lines 1-14)\n"
     ]
    }
   ],
   "source": [
    "import nltk\n",
    "from nltk.tokenize import sent_tokenize\n",
    "\n",
    "meeting_summary = response[\"choices\"][0][\"text\"].strip()\n",
    "\n",
    "# Split the meeting summary into sentences\n",
    "sentences = sent_tokenize(meeting_summary)\n",
    "\n",
    "# Print the sentences with bullet points\n",
    "for i, sentence in enumerate(sentences, start=1):\n",
    "    sentence = sentence.strip()\n",
    "    if sentence != \"\":\n",
    "        print(f\"{sentence}\")\n"
   ]
  },
  {
   "cell_type": "code",
   "execution_count": 57,
   "metadata": {},
   "outputs": [
    {
     "name": "stdout",
     "output_type": "stream",
     "text": [
      "the authority to protect their citizens through abortion regulation . Third , the FDA ’ s actions harm the public interest by undermining States ’ ability to protect their citizens and by forcing States to divert scarce resources to investigating and prosecuting violations of their laws . Case 2:22-cv-00223-Z Document 100 Filed 02/13/23 Page 9 of 26 PageID 3768 4 BACKGROUND The FDA ’ s actions on mifepristone are governed by the Food , Drug , and Cosmetic Act ( FDCA ) , 21 U.S.C . § 301 et seq . Under the FDCA , the FDA may approve drugs for interstate sale and distribution only after determining that the drugs are “ safe and effective for use under the conditions prescribed , recommended , or suggested in the labeling thereof. ” 21 U.S.C . § 355(d) . The FDCA also requires that drugs be dispensed “ only by or upon a valid prescription of a practitioner licensed by law to administer such drug. ” 21 U.S.C . § 393 . The FDA ’ s authority to approve drugs is further circumscribed by the Drug Amendments of 1962 , which require the FDA to establish “ risk evaluation and mitigation strategies ” ( REMS ) to ensure that the benefits of a drug outweigh the risks . 21 U.S.C . § 355-1 ; 21 C.F.R . § 314.500 . In 2000 , the FDA approved mifepristone for the medical termination of pregnancy through 49 days of gestation . 65 Fed . Reg . 56865 ( Sept. 28 , 2000 ) . The FDA ’ s approval of mifepristone included REMS requirements , which the FDA deemed necessary to ensure that the drug ’ s benefits outweighed the risks . 21 C.F.R . §§ 314.500- 314.560 ; U.S. Food & Drug Admin. , Information about Mifepristone for Medical Termination of Pregnancy Through Ten Weeks Gestation , https : //bit.ly/2Q3j7mU . Those requirements included a “ RiskMAP ” —an agreement between the FDA and the drug ’ s manufacturer that imposed various safety measures , including limiting the drug ’ s distribution to certain “ certified prescribers ” and “ certified distributors ” and requiring that the drug be dispensed “ only in certain health\n",
      "’ broadly defined to include pregnancy . ” App.717 -18 . But the FDA ’ s rulemaking did not say that . The agency ’ s preamble to the rule stated only that Subpart H could be used to approve drugs for “ serious or life -threatening illnesses and medical conditions . ” App.717 ( emphasis added ) . That is a far cry from saying that Subpart H covers pregnancy . The FDA ’ s decision to approve mifepristone under Subpart H thus violates the agency ’ s own regulations . Second , the FDA ’ s actions defy federal laws that restrict the mailing of abortion drugs . The Federal Food , Drug , and Cosmetic Act prohibits the “ introduction or delivery for introduction into interstate commerce ” of any “ new drug ” without FDA approval . 21 U.S.C . § 355 ( a ) . But the Act also prohibits the “ mailing of any [ drug ] in interstate commerce ” that is “ intended for use in the cure , mitigation , treatment , or prevention of disease in man or animals . ” Id . § 331 ( d ) . That prohibition applies to drugs like mifepristone that the FDA has approved for use in the termination of pregnancy . See id . § 321 ( g ) ( 1 ) ( B ) ( defining “ drug ” to include “ articles intended for use in the diagnosis , cure , mitigation , treatment , or prevention of disease in man or other animals ” ) . The FDA has not sought to exempt mifepristone from the mailing prohibition . It has instead effectively ignored it . The agency ’ s decision to allow the drug ’ s mailing thus violates federal law . Case 2:22-cv-00223-Z Document 100 Filed 02/13/23 Page 15 of 26 PageID 3774 10 B . The Public Interest A nd Equities Weigh Strongly Against The FDA ’ s Actions Because Those Actions Defy The Public -Interest Determinations Made By States . The FDA ’ s actions also defy the public -interest determinations that States have made in this area . The public interest and equities thus weigh strongly against the FDA ’ s actions . The public interest is served when federal agencies respect the proper exercise of state authority . See, e.g. , Texas v. United States , 809 F.3d 134 , 165\n",
      "safe and effective for its approved use —not whether it should be used in the first place . Case 2:22-cv-00223-Z Document 100 Filed 02/13/23 Page 19 of 26 PageID 3778 14 The FDA's approval of mifepristone for mail-order distribution defies its own regulatory authority and longstanding federal criminal law, as well as the authority of states to protect the health, safety, and welfare of their citizens by regulating abortion. The agency's actions are at odds with the public interest and should be enjoined. (Page 15, Lines 1-17; Page 16, Lines 1-14; Page 17, Lines 1-14; Page 18, Lines 1-14; Page 19, Lines 1-2) \n",
      "\n",
      "The FDA's approval of mifepristone for mail-order distribution defies its own regulatory authority and longstanding federal criminal law, as well as the authority of states to protect the health, safety, and welfare of their citizens by regulating abortion. The agency's actions are at odds with the public interest and should be enjoined (Page 15, Lines 1-17; Page 16, Lines 1-14; Page 17, Lines 1-14; Page 18, Lines 1-14; Page 19, Lines 1-2). The FDA was not responding to changed circumstances on the safety of mifepristone when it cast aside the longstanding requirements for in-person dispensing, but rather acting at the behest of the Biden Administration and its allies who demanded political action. The FDA's actions seek to override the balance properly struck by States and, if allowed to stand, will harm the public interest.\n",
      "The Biden Administration's recent decision to allow the distribution of abortion-inducing drugs through mail-order violates the authority of state legislatures and harms the public interest. The authority to regulate or prohibit abortion belongs to the citizens of each state and the FDA has no authority to make broad policy judgments balancing the people's interests in prenatal life, maternal health and safety, and the integrity of the medical profession (Dobbs, 142 S. Ct. at 2284). The FDA's actions will undermine the ability of states to protect their citizens and force states to divert scarce resources to investigating and prosecuting violations of their laws (18 U.S.C. § 1461). As such, the public interest strongly weighs against the FDA's effort to override duly enacted state laws.\n"
     ]
    }
   ],
   "source": [
    "#print the two-page summary\n",
    "for i in prompt_response:\n",
    "    print(i)"
   ]
  },
  {
   "cell_type": "code",
   "execution_count": null,
   "metadata": {},
   "outputs": [],
   "source": []
  }
 ],
 "metadata": {
  "kernelspec": {
   "display_name": "femo1",
   "language": "python",
   "name": "python3"
  },
  "language_info": {
   "codemirror_mode": {
    "name": "ipython",
    "version": 3
   },
   "file_extension": ".py",
   "mimetype": "text/x-python",
   "name": "python",
   "nbconvert_exporter": "python",
   "pygments_lexer": "ipython3",
   "version": "3.9.0"
  },
  "orig_nbformat": 4
 },
 "nbformat": 4,
 "nbformat_minor": 2
}
