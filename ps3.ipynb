{
 "cells": [
  {
   "attachments": {},
   "cell_type": "markdown",
   "metadata": {},
   "source": [
    "<h2>Problem Statement #3 : Automating Code Review</h2>"
   ]
  },
  {
   "cell_type": "code",
   "execution_count": 73,
   "metadata": {},
   "outputs": [],
   "source": [
    "import platform\n",
    "import os\n",
    "import openai\n",
    "import re\n",
    "import PyPDF2"
   ]
  },
  {
   "cell_type": "code",
   "execution_count": 74,
   "metadata": {},
   "outputs": [
    {
     "name": "stdout",
     "output_type": "stream",
     "text": [
      "Python:  3.9.0\n",
      "re:  2.2.1\n",
      "nltk:  3.8.1\n"
     ]
    },
    {
     "name": "stderr",
     "output_type": "stream",
     "text": [
      "[nltk_data] Downloading package punkt to\n",
      "[nltk_data]     C:\\Users\\lnavn\\AppData\\Roaming\\nltk_data...\n",
      "[nltk_data]   Package punkt is already up-to-date!\n"
     ]
    }
   ],
   "source": [
    "import nltk\n",
    "nltk.download('punkt')\n",
    "from nltk.tokenize import word_tokenize\n",
    "\n",
    "print('Python: ', platform.python_version())\n",
    "print('re: ', re.__version__)\n",
    "print('nltk: ', nltk.__version__)"
   ]
  },
  {
   "cell_type": "code",
   "execution_count": 75,
   "metadata": {},
   "outputs": [],
   "source": [
    "#load api key from .env\n",
    "from dotenv import load_dotenv\n",
    "load_dotenv()\n",
    "openai.api_key=os.getenv(\"OPENAI_API_KEY\")"
   ]
  },
  {
   "cell_type": "code",
   "execution_count": 76,
   "metadata": {},
   "outputs": [],
   "source": [
    "def count_tokens(text):\n",
    "    tokens = word_tokenize(text)\n",
    "    return len(tokens)"
   ]
  },
  {
   "attachments": {},
   "cell_type": "markdown",
   "metadata": {},
   "source": [
    "<h4>Extracting code from a public GitHub Repo</h4>"
   ]
  },
  {
   "cell_type": "code",
   "execution_count": 78,
   "metadata": {},
   "outputs": [
    {
     "name": "stdout",
     "output_type": "stream",
     "text": [
      "Code extracted successfully.\n"
     ]
    }
   ],
   "source": [
    "import requests\n",
    "\n",
    "# GitHub raw file URL\n",
    "url = 'https://raw.githubusercontent.com/learning-zone/java-basics/master/java-programs/SquarerootOfNumber.java'\n",
    "\n",
    "# Send GET request to the URL\n",
    "response = requests.get(url)\n",
    "\n",
    "# Check if the request was successful\n",
    "if response.status_code == 200:\n",
    "    # Extract the code content\n",
    "    code = response.text\n",
    "    print(\"Code extracted successfully.\")\n",
    "else:\n",
    "    print(f\"Failed to retrieve code. Status code: {response.status_code}\")\n"
   ]
  },
  {
   "cell_type": "markdown",
   "metadata": {},
   "source": [
    "<h4>Enter your own code </h4>"
   ]
  },
  {
   "cell_type": "code",
   "execution_count": null,
   "metadata": {},
   "outputs": [],
   "source": [
    "# filename = 'test.java'\n",
    "# with open(filename, 'r') as file:\n",
    "#     code = file.read()\n",
    "#     print(\"Code extracted successfully.\")"
   ]
  },
  {
   "cell_type": "code",
   "execution_count": 79,
   "metadata": {},
   "outputs": [
    {
     "name": "stdout",
     "output_type": "stream",
     "text": [
      "Number of tokens: 92\n"
     ]
    }
   ],
   "source": [
    "token_count = count_tokens(code)\n",
    "print(f\"Number of tokens: {token_count}\")"
   ]
  },
  {
   "cell_type": "code",
   "execution_count": 80,
   "metadata": {},
   "outputs": [],
   "source": [
    "import openai\n",
    "\n",
    "def automate_code_review(code):\n",
    "    prompt = \"\"\"\n",
    "    Given a code snippet, review the code based on the provided guidelines:\n",
    "\n",
    "    Guidelines:\n",
    "    1. Java Conventions\n",
    "    2. Replace Imperative Code\n",
    "    3. Avoid Null Pointer Exception\n",
    "    4. Directly Assign References\n",
    "    5. Handle Exceptions Carefully\n",
    "    6. Choose Data Structures Wisely\n",
    "    7. Think Before Exposing\n",
    "    8. Code to Interfaces\n",
    "    9. Avoid Unnecessary Interfaces\n",
    "    10. Override HashCode with Equals\n",
    "    \n",
    "    Code to review:\n",
    "    \"\"\"\n",
    "\n",
    "    completion = openai.Completion.create(\n",
    "        engine=\"text-davinci-003\",\n",
    "        prompt=prompt + code,\n",
    "        temperature=0.5,\n",
    "        max_tokens=200,\n",
    "        n=1,\n",
    "        stop=None,\n",
    "        top_p=1.0,\n",
    "        frequency_penalty=0.0,\n",
    "        presence_penalty=0.0\n",
    "    )\n",
    "    \n",
    "    response = completion.choices[0].text.strip()\n",
    "    return response\n",
    "\n",
    "# Provide the code snippet you want to review\n",
    "code_to_review = code\n",
    "review_result = automate_code_review(code_to_review)"
   ]
  },
  {
   "cell_type": "code",
   "execution_count": 82,
   "metadata": {},
   "outputs": [
    {
     "name": "stdout",
     "output_type": "stream",
     "text": [
      "• Review:\n",
      "This code follows Java conventions, including proper indentation, naming conventions, and method and class declarations\n",
      "• However, the code could be improved by replacing the imperative code with a more modern approach\n",
      "• Additionally, it should handle exceptions carefully, as the program may crash if the number is negative\n",
      "• The code should also be refactored to use a more efficient data structure, such as a hash table\n",
      "• The sqrt method should also be made private, as it is not necessary to expose this method to the outside world\n",
      "• Finally, the code should override the hashCode method with the equals method to ensure that the objects are properly compared\n",
      "• \n"
     ]
    }
   ],
   "source": [
    "for i in review_result.split('.'):\n",
    "    # Print each review point with a bullet point\n",
    "    print(f\"\\u2022 {i.strip()}\")"
   ]
  },
  {
   "cell_type": "code",
   "execution_count": null,
   "metadata": {},
   "outputs": [],
   "source": []
  }
 ],
 "metadata": {
  "kernelspec": {
   "display_name": "femo1",
   "language": "python",
   "name": "python3"
  },
  "language_info": {
   "codemirror_mode": {
    "name": "ipython",
    "version": 3
   },
   "file_extension": ".py",
   "mimetype": "text/x-python",
   "name": "python",
   "nbconvert_exporter": "python",
   "pygments_lexer": "ipython3",
   "version": "3.9.0"
  },
  "orig_nbformat": 4
 },
 "nbformat": 4,
 "nbformat_minor": 2
}
